{
  "nbformat": 4,
  "nbformat_minor": 0,
  "metadata": {
    "colab": {
      "provenance": []
    },
    "kernelspec": {
      "name": "python3",
      "display_name": "Python 3"
    },
    "language_info": {
      "name": "python"
    }
  },
  "cells": [
    {
      "cell_type": "markdown",
      "source": [
        "# **순전파**"
      ],
      "metadata": {
        "id": "83h_z_B8NhfQ"
      }
    },
    {
      "cell_type": "code",
      "execution_count": 1,
      "metadata": {
        "id": "nN0U6pt7NfVE",
        "colab": {
          "base_uri": "https://localhost:8080/"
        },
        "outputId": "4acdd2d1-fc15-4f52-cf19-62e17fe1d75e"
      },
      "outputs": [
        {
          "output_type": "stream",
          "name": "stdout",
          "text": [
            "입력 벡터 x: [[0.5 0.8 0.2]]\n",
            "은닉층 선형 출력 z1: [[0.8 1.4]]\n",
            "은닉층 활성화 a1 (ReLU): [[0.8 1.4]]\n",
            "출력층 선형 출력 z2: [[0.7]]\n",
            "최종 예측 y_pred (ReLU): [[0.7]]\n"
          ]
        }
      ],
      "source": [
        "import numpy as np\n",
        "# ReLU 함수 정의\n",
        "def ReLU(X):\n",
        "    return np.maximum(0,X)\n",
        "# 입력층 데이터(1*3)\n",
        "x = np.array([[0.5, 0.8, 0.2]])\n",
        "# 은닉층 가중치(3*2), 편향(1*2)\n",
        "W1 = np.array([[1.0, -1.0],\n",
        "               [0.0, 2.0],\n",
        "               [1.0, 0.5]])\n",
        "b1 = np.array([[0.1, 0.2]])\n",
        "# 은닉층 계산\n",
        "z1 = x @ W1 + b1\n",
        "a1 = ReLU(z1)\n",
        "# 출력층 가중치(2*1), 편향(1*1)\n",
        "W2 = np.array([[2.0],\n",
        "               [-1.0]])\n",
        "b2 = np.array([[0.5]])\n",
        "# 출력층 계산\n",
        "z2 = a1 @ W2 + b2\n",
        "y_pred = ReLU(z2)\n",
        "# 결과 출력\n",
        "print(\"입력 벡터 x:\", x)\n",
        "print(\"은닉층 선형 출력 z1:\", z1)\n",
        "print(\"은닉층 활성화 a1 (ReLU):\", a1)\n",
        "print(\"출력층 선형 출력 z2:\", z2)\n",
        "print(\"최종 예측 y_pred (ReLU):\", y_pred)"
      ]
    },
    {
      "cell_type": "markdown",
      "source": [
        "# **역전파 (직접 미분)**"
      ],
      "metadata": {
        "id": "YMtndb5qOgUX"
      }
    },
    {
      "cell_type": "code",
      "source": [
        "import numpy as np\n",
        "\n",
        "# ReLU 함수와 도함수 정의\n",
        "def ReLU(X):\n",
        "    return np.maximum(0, X)\n",
        "\n",
        "def relu_deriv(X):\n",
        "    return (x > 0).astype(float)\n",
        "# 입력층 데이터(1*3)\n",
        "x = np.array([[0.5, 0.8, 0.2]])\n",
        "# 은닉층 가중치(3*2), 편향(1*2)\n",
        "W1 = np.array([[1.0, -1.0],\n",
        "               [0.0, 2.0],\n",
        "               [1.0, 0.5]])\n",
        "b1 = np.array([[0.1, 0.2]])\n",
        "# 은닉층 계산\n",
        "z1 = x @ W1 + b1\n",
        "a1 = ReLU(z1)\n",
        "# 출력층 가중치(2*1), 편향(1*1)\n",
        "W2 = np.array([[2.0],\n",
        "               [-1.0]])\n",
        "b2 = np.array([[0.5]])\n",
        "# 순전파 계산\n",
        "z2 = a1 @ W2 + b2\n",
        "y_pred = ReLU(z2)\n",
        "# 손실함수\n",
        "loss = 0.5 * (y_pred - y) ** 2\n",
        "\n",
        "# --- 역전파 ---\n",
        "\n",
        "# 출력층 계산\n",
        "# dL_dW2 = dL_dy * dy_dz2 * dz2_dW2\n",
        "dL_dy = y_pred - y                     # dL/dy_pred\n",
        "dy_dz2 = relu_deriv(z2)                # ReLU 미분\n",
        "dz2 = dL_dy * dy_dz2                   # dL/dz2 (1,1)\n",
        "\n",
        "dW2 = a1.T @ dz2                       # (2,1)\n",
        "db2 = dz2                              # (1,1)\n",
        "\n",
        "# 은닉층 계산\n",
        "dz1 = dz2 @ W2.T * relu_deriv(z1)      # (1,2)\n",
        "dW1 = x.T @ dz1                        # (3,2)\n",
        "db1 = dz1                              # (1,2)\n",
        "\n",
        "# 가중치 및 편향 업데이트\n",
        "lr = 0.1\n",
        "\n",
        "W2 -= lr * dW2\n",
        "b2 -= lr * db2\n",
        "W1 -= lr * dW1\n",
        "b1 -= lr * db1\n",
        "\n",
        "# 두 번째 순전파\n",
        "z1_2 = x @ W1 + b1\n",
        "a1_2 = ReLU(z1_2)\n",
        "z2_2 = a1_2 @ W2 + b2\n",
        "y_pred_2 = ReLU(z2_2)\n",
        "loss_2 = 0.5 * (y_pred_2 - y) ** 2\n",
        "# 결과 출력\n",
        "print(\"---순전파---\")\n",
        "print(\"z1:\", z1)\n",
        "print(\"a1:\", a1)\n",
        "print(\"z2:\", z2)\n",
        "print(\"y_pred:\", y_pred)\n",
        "print(\"loss:\", loss.item())\n",
        "\n",
        "print(\"\\n---역전파---\")\n",
        "print(\"dW2:\", dW2)\n",
        "print(\"db2:\", db2)\n",
        "print(\"dW1:\", dW1)\n",
        "print(\"db1:\", db1)\n",
        "\n",
        "print(\"\\n---업데이트 후---\")\n",
        "print(\"W1:\", W1)\n",
        "print(\"b1:\", b1)\n",
        "print(\"W2:\", W2)\n",
        "print(\"b2:\", b2)\n",
        "\n",
        "print(\"\\n---두 번째 순전파---\")\n",
        "print(\"z1:\", z1_2)\n",
        "print(\"a1:\", a1_2)\n",
        "print(\"z2:\", z2_2)\n",
        "print(\"y_pred:\", y_pred_2)\n",
        "print(\"loss:\", loss_2.item())"
      ],
      "metadata": {
        "id": "es51wemYOisf"
      },
      "execution_count": null,
      "outputs": []
    },
    {
      "cell_type": "markdown",
      "source": [
        "# **역전파(pytorch 사용)**"
      ],
      "metadata": {
        "id": "jya-pEPZPuqM"
      }
    },
    {
      "cell_type": "code",
      "source": [
        "import torch\n",
        "import torch.nn.functional as F\n",
        "# 입력 데이터와 정답\n",
        "x = torch.tensor([[0.5, 0.8, 0.2]], dtype = torch.float32)\n",
        "y = torch.tensor([[1.0]], dtype = torch.float32)\n",
        "\n",
        "# 가중치 및 편향\n",
        "W1 = torch.tensor([[1.0, -1.0],\n",
        "                   [0.0, 2.0],\n",
        "                    [1.0, 0.5]], requires_grad = True)\n",
        "b1 = torch.tensor([[0.1, 0.2]], dtype = torch.float32, requires_grad = True)\n",
        "\n",
        "W2 = torch.tensor([[2.0],\n",
        "                   [-1.0]], dtype=torch.float32, requires_grad=True)\n",
        "\n",
        "b2 = torch.tensor([[0.5]], dtype=torch.float32, requires_grad=True)\n",
        "\n",
        "# 순전파\n",
        "z = x @ W1 + b1\n",
        "a = F.relu(z)\n",
        "z2 = a @ W2 + b2\n",
        "y_pred = F.relu(z2)\n",
        "loss = 0.5 * (y_pred -y) ** 2\n",
        "# 역전파\n",
        "loss.backward()\n",
        "# 파라미터 업데이트\n",
        "lr = 0.1\n",
        "with torch.no_grad():\n",
        "    W1 -= lr * W1.grad\n",
        "    b1 -= lr * b1.grad\n",
        "    W2 -= lr * W2.grad\n",
        "    b2 -= lr * b2.grad\n",
        "# 두 번째 순전파\n",
        "z1_2 = x @ W1 + b1\n",
        "a1_2 = torch.relu(z1_2)\n",
        "z2_2 = a1_2 @ W2 + b2\n",
        "y_pred_2 = torch.relu(z2_2)\n",
        "loss_2 = 0.5 * (y_pred_2 - y) ** 2\n",
        "# 결과 출력\n",
        "print(\"y_pred : \", y_pred.item())\n",
        "print(\"loss : \", loss.item())\n",
        "print(\"y_pred_2 : \", y_pred_2.item())\n",
        "print(\"loss_2 : \", loss_2.item())"
      ],
      "metadata": {
        "id": "kv-Ti_lmPw-S",
        "colab": {
          "base_uri": "https://localhost:8080/"
        },
        "outputId": "250bbcbe-ff51-4f04-ad01-012eaa76949d"
      },
      "execution_count": 9,
      "outputs": [
        {
          "output_type": "stream",
          "name": "stdout",
          "text": [
            "y_pred :  0.6999999284744263\n",
            "loss :  0.045000020414590836\n",
            "y_pred_2 :  1.09784734249115\n",
            "loss_2 :  0.004787051118910313\n"
          ]
        }
      ]
    },
    {
      "cell_type": "markdown",
      "source": [
        "# **순전파+역전파 for문**"
      ],
      "metadata": {
        "id": "4I6nPs2TUdY_"
      }
    },
    {
      "cell_type": "code",
      "source": [
        "import torch\n",
        "import torch.nn.functional as F\n",
        "# 입력 데이터와 정답\n",
        "x = torch.tensor([[0.5, 0.8, 0.2]], dtype = torch.float32)\n",
        "y = torch.tensor([[1.0]], dtype = torch.float32)\n",
        "\n",
        "# 가중치 및 편향\n",
        "W1 = torch.tensor([[1.0, -1.0],\n",
        "                   [0.0, 2.0],\n",
        "                    [1.0, 0.5]], requires_grad = True)\n",
        "b1 = torch.tensor([[0.1, 0.2]], dtype = torch.float32, requires_grad = True)\n",
        "\n",
        "W2 = torch.tensor([[2.0],\n",
        "                   [-1.0]], dtype=torch.float32, requires_grad=True)\n",
        "\n",
        "b2 = torch.tensor([[0.5]], dtype=torch.float32, requires_grad=True)\n",
        "\n",
        "# 학습 설정\n",
        "lr = 0.1\n",
        "epochs = 10\n",
        "\n",
        "print(\"---학습 시작---\")\n",
        "for epoch in range(1, epochs+1):\n",
        "  #순전파\n",
        "  z = x @ W1 + b1\n",
        "  a = F.relu(z)\n",
        "  z2 = a @ W2 + b2\n",
        "  y_pred = F.relu(z2)\n",
        "  loss = 0.5 * (y_pred - y) ** 2\n",
        "\n",
        "  #역전파\n",
        "  loss.backward()\n",
        "\n",
        "  # 파라미터 업데이트\n",
        "  lr = 0.1\n",
        "  with torch.no_grad():\n",
        "      W1 -= lr * W1.grad\n",
        "      b1 -= lr * b1.grad\n",
        "      W2 -= lr * W2.grad\n",
        "      b2 -= lr * b2.grad\n",
        "\n",
        "  #기울기 초기화\n",
        "  W1.grad.zero_()\n",
        "  b1.grad.zero_()\n",
        "  W2.grad.zero_()\n",
        "  b2.grad.zero_()\n",
        "\n",
        "  print(\"Epoch\", epoch, \"| y_pred: \", y_pred.item(), \"| loss: \", loss.item())"
      ],
      "metadata": {
        "id": "0yxwN9skUho3",
        "colab": {
          "base_uri": "https://localhost:8080/"
        },
        "outputId": "2b82bfdb-b7f3-4679-85aa-9e13ed55bc91"
      },
      "execution_count": 11,
      "outputs": [
        {
          "output_type": "stream",
          "name": "stdout",
          "text": [
            "---학습 시작---\n",
            "Epoch 1 | y_pred:  0.6999999284744263 | loss:  0.045000020414590836\n",
            "Epoch 2 | y_pred:  1.09784734249115 | loss:  0.004787051118910313\n",
            "Epoch 3 | y_pred:  0.967643141746521 | loss:  0.0005234831478446722\n",
            "Epoch 4 | y_pred:  1.0106124877929688 | loss:  5.6312448577955365e-05\n",
            "Epoch 5 | y_pred:  0.9965109825134277 | loss:  6.086621397116687e-06\n",
            "Epoch 6 | y_pred:  1.0011465549468994 | loss:  6.572940947080497e-07\n",
            "Epoch 7 | y_pred:  0.9996230602264404 | loss:  7.104179644557007e-08\n",
            "Epoch 8 | y_pred:  1.0001239776611328 | loss:  7.685230229981244e-09\n",
            "Epoch 9 | y_pred:  0.9999591112136841 | loss:  8.359464231944003e-10\n",
            "Epoch 10 | y_pred:  1.0000135898590088 | loss:  9.234213393938262e-11\n"
          ]
        }
      ]
    }
  ]
}