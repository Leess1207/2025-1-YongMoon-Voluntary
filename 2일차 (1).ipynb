{
  "nbformat": 4,
  "nbformat_minor": 0,
  "metadata": {
    "colab": {
      "provenance": []
    },
    "kernelspec": {
      "name": "python3",
      "display_name": "Python 3"
    },
    "language_info": {
      "name": "python"
    }
  },
  "cells": [
    {
      "cell_type": "markdown",
      "source": [
        "# **순전파**"
      ],
      "metadata": {
        "id": "83h_z_B8NhfQ"
      }
    },
    {
      "cell_type": "code",
      "execution_count": 1,
      "metadata": {
        "id": "nN0U6pt7NfVE",
        "colab": {
          "base_uri": "https://localhost:8080/"
        },
        "outputId": "4acdd2d1-fc15-4f52-cf19-62e17fe1d75e"
      },
      "outputs": [
        {
          "output_type": "stream",
          "name": "stdout",
          "text": [
            "입력 벡터 x: [[0.5 0.8 0.2]]\n",
            "은닉층 선형 출력 z1: [[0.8 1.4]]\n",
            "은닉층 활성화 a1 (ReLU): [[0.8 1.4]]\n",
            "출력층 선형 출력 z2: [[0.7]]\n",
            "최종 예측 y_pred (ReLU): [[0.7]]\n"
          ]
        }
      ],
      "source": [
        "import numpy as np\n",
        "# ReLU 함수 정의\n",
        "def ReLU(X):\n",
        "    return np.maximum(0,X)\n",
        "# 입력층 데이터(1*3)\n",
        "x = np.array([[0.5, 0.8, 0.2]])\n",
        "# 은닉층 가중치(3*2), 편향(1*2)\n",
        "W1 = np.array([[1.0, -1.0],\n",
        "               [0.0, 2.0],\n",
        "               [1.0, 0.5]])\n",
        "b1 = np.array([[0.1, 0.2]])\n",
        "# 은닉층 계산\n",
        "z1 = x @ W1 + b1\n",
        "a1 = ReLU(z1)\n",
        "# 출력층 가중치(2*1), 편향(1*1)\n",
        "W2 = np.array([[2.0],\n",
        "               [-1.0]])\n",
        "b2 = np.array([[0.5]])\n",
        "# 출력층 계산\n",
        "z2 = a1 @ W2 + b2\n",
        "y_pred = ReLU(z2)\n",
        "# 결과 출력\n",
        "print(\"입력 벡터 x:\", x)\n",
        "print(\"은닉층 선형 출력 z1:\", z1)\n",
        "print(\"은닉층 활성화 a1 (ReLU):\", a1)\n",
        "print(\"출력층 선형 출력 z2:\", z2)\n",
        "print(\"최종 예측 y_pred (ReLU):\", y_pred)"
      ]
    },
    {
      "cell_type": "markdown",
      "source": [
        "# **역전파 (직접 미분)**"
      ],
      "metadata": {
        "id": "YMtndb5qOgUX"
      }
    },
    {
      "cell_type": "code",
      "source": [
        "import numpy as np\n",
        "\n",
        "# ReLU 함수와 도함수 정의\n",
        "def ReLU(X):\n",
        "    return np.maximum(0, X)\n",
        "\n",
        "def relu_deriv(X):\n",
        "    return (x > 0).astype(float)\n",
        "# 입력층 데이터(1*3)\n",
        "x = np.array([[0.5, 0.8, 0.2]])\n",
        "# 은닉층 가중치(3*2), 편향(1*2)\n",
        "W1 = np.array([[1.0, -1.0],\n",
        "               [0.0, 2.0],\n",
        "               [1.0, 0.5]])\n",
        "b1 = np.array([[0.1, 0.2]])\n",
        "# 은닉층 계산\n",
        "z1 = x @ W1 + b1\n",
        "a1 = ReLU(z1)\n",
        "# 출력층 가중치(2*1), 편향(1*1)\n",
        "W2 = np.array([[2.0],\n",
        "               [-1.0]])\n",
        "b2 = np.array([[0.5]])\n",
        "# 순전파 계산\n",
        "z2 = a1 @ W2 + b2\n",
        "y_pred = ReLU(z2)\n",
        "# 손실함수\n",
        "loss = 0.5 * (y_pred - y) ** 2\n",
        "\n",
        "# --- 역전파 ---\n",
        "\n",
        "# 출력층 계산\n",
        "# dL_dW2 = dL_dy * dy_dz2 * dz2_dW2\n",
        "dL_dy = y_pred - y                     # dL/dy_pred\n",
        "dy_dz2 = relu_deriv(z2)                # ReLU 미분\n",
        "dz2 = dL_dy * dy_dz2                   # dL/dz2 (1,1)\n",
        "\n",
        "dW2 = a1.T @ dz2                       # (2,1)\n",
        "db2 = dz2                              # (1,1)\n",
        "\n",
        "# 은닉층 계산\n",
        "dz1 = dz2 @ W2.T * relu_deriv(z1)      # (1,2)\n",
        "dW1 = x.T @ dz1                        # (3,2)\n",
        "db1 = dz1                              # (1,2)\n",
        "\n",
        "# 가중치 및 편향 업데이트\n",
        "lr = 0.1\n",
        "\n",
        "W2 -= lr * dW2\n",
        "b2 -= lr * db2\n",
        "W1 -= lr * dW1\n",
        "b1 -= lr * db1\n",
        "\n",
        "# 두 번째 순전파\n",
        "\n",
        "# 결과 출력\n",
        "print(\"---순전파---\")\n",
        "print(\"z1:\", z1)\n",
        "print(\"a1:\", a1)\n",
        "print(\"z2:\", z2)\n",
        "print(\"y_pred:\", y_pred)\n",
        "print(\"loss:\", loss.item())\n",
        "\n",
        "print(\"\\n---역전파---\")\n",
        "print(\"dW2:\", dW2)\n",
        "print(\"db2:\", db2)\n",
        "print(\"dW1:\", dW1)\n",
        "print(\"db1:\", db1)\n",
        "\n",
        "print(\"\\n---업데이트 후---\")\n",
        "print(\"W1:\", W1)\n",
        "print(\"b1:\", b1)\n",
        "print(\"W2:\", W2)\n",
        "print(\"b2:\", b2)\n",
        "\n",
        "print(\"\\n---두 번째 순전파---\")\n",
        "print(\"z1:\", z1_2)\n",
        "print(\"a1:\", a1_2)\n",
        "print(\"z2:\", z2_2)\n",
        "print(\"y_pred:\", y_pred_2)\n",
        "print(\"loss:\", loss_2.item())"
      ],
      "metadata": {
        "id": "es51wemYOisf"
      },
      "execution_count": null,
      "outputs": []
    },
    {
      "cell_type": "markdown",
      "source": [
        "# **역전파(pytorch 사용)**"
      ],
      "metadata": {
        "id": "jya-pEPZPuqM"
      }
    },
    {
      "cell_type": "code",
      "source": [
        "import torch\n",
        "# 입력 데이터와 정답\n",
        "x = torch.tensor([[0.5, 0.8, 0.2]], dtype = torch.float32)\n",
        "y = torch.tensor([[1.0]], dtype = torch.float32)\n",
        "\n",
        "# 가중치 및 편향\n",
        "W1 = torch.tensor([[1.0, -1.0],\n",
        "                   [0.0, 2.0],\n",
        "                    [1.0, 0.5]], requires_grad = True)\n",
        "b1 = torch.tensor([[0.1, 0.2]], dtype = torch.float32, requires_grad = True)\n",
        "\n",
        "W2 = torch.tensor([[2.0],\n",
        "                   [-1.0]], dtype=torch.float32, requires_grad=True)\n",
        "\n",
        "b2 = torch.tensor([[0.5]], dtype=torch.float32, requires_grad=True)\n",
        "\n",
        "# 순전파\n",
        "\n",
        "# 역전파\n",
        "\n",
        "# 파라미터 업데이트\n",
        "\n",
        "# 두 번째 순전파\n",
        "\n",
        "# 결과 출력"
      ],
      "metadata": {
        "id": "kv-Ti_lmPw-S"
      },
      "execution_count": 2,
      "outputs": []
    },
    {
      "cell_type": "markdown",
      "source": [
        "# **순전파+역전파 for문**"
      ],
      "metadata": {
        "id": "4I6nPs2TUdY_"
      }
    },
    {
      "cell_type": "code",
      "source": [
        "\n",
        "# 입력 데이터와 정답\n",
        "x = torch.tensor([[0.5, 0.8, 0.2]], dtype = torch.float32)\n",
        "y = torch.tensor([[1.0]], dtype = torch.float32)\n",
        "\n",
        "# 가중치 및 편향\n",
        "W1 = torch.tensor([[1.0, -1.0],\n",
        "                   [0.0, 2.0],\n",
        "                    [1.0, 0.5]], requires_grad = True)\n",
        "b1 = torch.tensor([[0.1, 0.2]], dtype = torch.float32, requires_grad = True)\n",
        "\n",
        "W2 = torch.tensor([[2.0],\n",
        "                   [-1.0]], dtype=torch.float32, requires_grad=True)\n",
        "\n",
        "b2 = torch.tensor([[0.5]], dtype=torch.float32, requires_grad=True)\n",
        "\n",
        "# 학습 설정\n",
        "\n",
        "\n",
        "print(\"---학습 시작---\")\n"
      ],
      "metadata": {
        "id": "0yxwN9skUho3"
      },
      "execution_count": null,
      "outputs": []
    }
  ]
}